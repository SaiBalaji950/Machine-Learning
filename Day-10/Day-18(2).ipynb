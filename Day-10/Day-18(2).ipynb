{
 "cells": [
  {
   "cell_type": "code",
   "execution_count": null,
   "id": "27f71f7d-fe47-4870-8988-e1528305cfc1",
   "metadata": {},
   "outputs": [],
   "source": [
    "Classification\n",
    "\n",
    "Classification algorithm are used when the output variable is categorical,which means there are two classes they are\n",
    "Yes-No,True-False,Male-Female and spam filtering etc."
   ]
  },
  {
   "cell_type": "code",
   "execution_count": null,
   "id": "c652f5cd-8a4e-418e-8333-2ea86c9c55af",
   "metadata": {},
   "outputs": [],
   "source": [
    "The Algorithm which implements the classification on a dataset is known as classifier. There are two types of classifiers. They are:\n",
    "1) Binary Classifier\n",
    "2) Multi-class classifier"
   ]
  },
  {
   "cell_type": "code",
   "execution_count": null,
   "id": "1e8b4466-f20b-4f2d-9535-e01e791bc015",
   "metadata": {},
   "outputs": [],
   "source": [
    "Binary Classifier\n",
    "\n",
    "If the classification problem have only two possible outcomes, then it is called as Binary Classifier.\n",
    "\n",
    "Example: Yes or No, True or False, Male or Female, Spam or Not Spam, cat or Dog etc."
   ]
  },
  {
   "cell_type": "code",
   "execution_count": null,
   "id": "bdf48c1c-0572-4e78-bb9c-d8febd5f1afd",
   "metadata": {},
   "outputs": [],
   "source": [
    "Multi-class Classifier\n",
    "\n",
    "If the classification problem have more than two possible outcomes, then it is called as Multi-class Classifier.\n",
    "\n",
    "Example: Classification of types of crops, classification of types of music etc."
   ]
  },
  {
   "cell_type": "code",
   "execution_count": null,
   "id": "0ce2c3f5-acb2-496b-9ee3-8725e3c610fe",
   "metadata": {},
   "outputs": [],
   "source": [
    "Learners in classification Problems\n",
    "1) Lazy Learners\n",
    "2) Eager Learners"
   ]
  },
  {
   "cell_type": "code",
   "execution_count": null,
   "id": "8892fdf9-6f42-478b-8ef6-cf70c641263d",
   "metadata": {},
   "outputs": [],
   "source": [
    "Lazy Learners\n",
    "\n",
    "Lazy Learners firstly stores the dataset and wait until receives the test dataset. In Lazy Learners case, Classification is done \n",
    "on the basis of most related data stored in the training dataset.It takes less time in training and more time for predictions.\n",
    "                                                                                                             \n",
    "Example: K-NN algorithm,Case-based Reasoning"
   ]
  },
  {
   "cell_type": "code",
   "execution_count": null,
   "id": "c57addea-2a0a-413d-bea2-4a1eb1d69988",
   "metadata": {},
   "outputs": [],
   "source": [
    "Eager Learners\n",
    "\n",
    "Eager Learners firstly prepare the classification model based on a training dataset and before receives the training dataset.\n",
    "It is quite opposite to Lazy Learners because it takes more time for training and less time for Predictions.\n",
    "\n",
    "Example: Decision Trees, Naive Bayes etc."
   ]
  },
  {
   "cell_type": "code",
   "execution_count": null,
   "id": "d35f34ca-873b-49f4-b328-51d747411cff",
   "metadata": {},
   "outputs": [],
   "source": [
    "Classification algorithm is mainly divided into two main categories. They are:\n",
    "1) Linear Model\n",
    "2) Non-Linear Model"
   ]
  },
  {
   "cell_type": "code",
   "execution_count": null,
   "id": "7d5a12f4-0b1f-4571-aab4-7b37019ae82d",
   "metadata": {},
   "outputs": [],
   "source": [
    "Linear Model\n",
    "1) Logistic Regression\n",
    "2) Support vector Machine\n",
    "\n",
    "Non-Linear Model\n",
    "1) K-NN Algorithm\n",
    "2) Naive Bayes\n",
    "3) kernel SVM\n",
    "4) Decision Tree Classifier\n",
    "5) Random Forest Classifier"
   ]
  },
  {
   "cell_type": "code",
   "execution_count": null,
   "id": "567f3d24-3c76-41b6-8277-db32db5e4146",
   "metadata": {},
   "outputs": [],
   "source": [
    "Evaluating a Classification model\n",
    "\n",
    "Once our model is completed, it is necessary to evaluate its performance either Classification or Regression model.\n",
    "so for evaluating a classification model,we have to following ways."
   ]
  },
  {
   "cell_type": "code",
   "execution_count": null,
   "id": "bae9e124-a9f8-4bc2-be2a-40e0ff041a7a",
   "metadata": {},
   "outputs": [],
   "source": [
    "Log Loss or Cross-Entropy Loss\n",
    "\n",
    "1) It is used for evaluating the performance of the classifier,whose output is a probability value between 0 and 1.\n",
    "2) For Good Classification model, the value of log loss should be near to 0.\n",
    "3) The value of log loss increases if the predicted values deviates from the actual values.\n",
    "4) The Lower Log Loss represents the highest accuracy of the model.\n",
    "5) For Binary Classification,cross-entropy can be calculated as:"
   ]
  },
  {
   "cell_type": "code",
   "execution_count": null,
   "id": "a3cad1ed-d70f-4a6e-83d7-c4dc217180b6",
   "metadata": {},
   "outputs": [],
   "source": [
    "                    i=1\n",
    "Cross-Entropy=(-1/N)∑[yilog(pi)+(1-yi)log(1-pi)]\n",
    "                    N"
   ]
  },
  {
   "cell_type": "code",
   "execution_count": null,
   "id": "d5e3f9cc-e561-4a02-8144-870e8b112e1d",
   "metadata": {},
   "outputs": [],
   "source": [
    "where yi=Actual output\n",
    "      pi=Predicted output\n",
    "      N=Total Number of Observations"
   ]
  },
  {
   "cell_type": "code",
   "execution_count": null,
   "id": "b672154a-c247-4607-af5a-1e8c42a667c9",
   "metadata": {},
   "outputs": [],
   "source": [
    "Confusion Matrix\n",
    "\n",
    "1) The Confusion Matrix Provides us the matrix/Table and describes the performance of the model.\n",
    "2) It is also Knows as the Error Matrix.\n",
    "3) The Matrix consists of Predictions result in a summarized form, which has total number of correct predictions and incorrect predictions.\n",
    "\n",
    "________________________________________________________________________________________________________________________________________________________\n",
    "|                                     |            Actual Positive                                            | Actual Negative                        |\n",
    "|_____________________________________|_______________________________________________________________________|________________________________________|\n",
    "| Predicted Positive                  |             True Positive(TP)                                         | False Negative(FN)                     |\n",
    "|_____________________________________|_______________________________________________________________________|________________________________________|\n",
    "| Predicted Negative                  |            False Positive(FP)                                         | True Negative(TN)                      |\n",
    "|_____________________________________|_______________________________________________________________________|________________________________________|\n",
    "\n",
    "\n",
    "Accuracy=(TP/TN)/(TP+TN+FP+FN)"
   ]
  },
  {
   "cell_type": "code",
   "execution_count": null,
   "id": "e00d79f4-d45e-44a9-8059-0e3750c45369",
   "metadata": {},
   "outputs": [],
   "source": [
    "AUC-ROC Curve\n",
    "\n",
    "1) AUC stands for Area Under Curve and ROC stands for Receiver Operational Characteristics curve.\n",
    "2) It is a graph that shows the performance of the Classification model at different thresholds.\n",
    "3) To visualize the performance of mutli-class classification model, we use AUC-ROC curve.\n",
    "4) The ROC curve is plotted with TPR and FPR, where TPR(True Positive Rate) and FPR(False Positive Rate) on x-axis."
   ]
  },
  {
   "cell_type": "code",
   "execution_count": null,
   "id": "8780d902-6077-4dca-9c9b-a1acc2e6359d",
   "metadata": {},
   "outputs": [],
   "source": [
    "Use-Cases of Classification Algorithms\n",
    "1) Email Spam Detection\n",
    "2) Speech Recognition\n",
    "3) Identification of Cancer Tumor cells\n",
    "4) Drugs Classification\n",
    "5) Biometric Identification etc."
   ]
  },
  {
   "cell_type": "code",
   "execution_count": null,
   "id": "aa4c8ef3-01cc-4284-9d59-82422accb353",
   "metadata": {},
   "outputs": [],
   "source": [
    "Let us discuss classification Algorithms one by one."
   ]
  },
  {
   "cell_type": "code",
   "execution_count": null,
   "id": "a885ffd3-1f62-4018-8caa-e73471f465d6",
   "metadata": {},
   "outputs": [],
   "source": [
    "Logistic Regression\n",
    "\n",
    "1) Logistic Regression is one of most popular Machine Learning algorithm, which is comes under from the Supervised Learning Technique.\n",
    "   It is used for to predicting the categorical dependent variable using a given set of independent variables.\n",
    "2) Logistic Regression predicts the output of a categorical dependent variable. Therefore the output must be categorical or discrete value.\n",
    "   It must be Yes or No, True or False,etc.but instead of giving the exact value 0 or 1. Therefore it gives probablistic values between 0 and 1.\n",
    "3) Logistic Regression is must similar to the Linear Regression except that how they are used. Linear Regression is used for Regression Problems.\n",
    "    Logistic Regression is used for the classification problems.\n",
    "4) In Logistic Regression, instead of fitting a regression line, we fitted S-shape Logistic Regression which predicts two maximum values(0 and 1)."
   ]
  }
 ],
 "metadata": {
  "kernelspec": {
   "display_name": "Python 3 (ipykernel)",
   "language": "python",
   "name": "python3"
  },
  "language_info": {
   "codemirror_mode": {
    "name": "ipython",
    "version": 3
   },
   "file_extension": ".py",
   "mimetype": "text/x-python",
   "name": "python",
   "nbconvert_exporter": "python",
   "pygments_lexer": "ipython3",
   "version": "3.12.4"
  }
 },
 "nbformat": 4,
 "nbformat_minor": 5
}
