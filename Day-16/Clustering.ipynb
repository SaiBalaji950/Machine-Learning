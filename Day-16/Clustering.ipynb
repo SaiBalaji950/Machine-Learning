{
 "cells": [
  {
   "cell_type": "code",
   "execution_count": null,
   "id": "10359673-b9d9-449b-b992-61801b63ac87",
   "metadata": {},
   "outputs": [],
   "source": [
    "Clustering\n",
    "\n",
    "Clustering or Cluster Analysis is a Machine Learning Technique which groups the unlabelled dataset.\n",
    "It can be defined as A way of grouping the data points into different clusters, consisting of similar data points. \n",
    "The objects with the possible similarities remain in a group that has less or no similarities with another group.\n",
    "\n",
    "        or\n",
    "\n",
    "Cluster refers to the group of similar objects that are close together. it will apply to objects, data points or even people.\n",
    "\n",
    "It is done by finding some similar patterns in the unlabelled dataset such as size, color, shape, behaviour etc. \n",
    "and divides them as per the presence and absence of those similar patterns.\n",
    "\n",
    "It is an unsupervised learning algorithm, hence no supervised is provided to the algorithm, and it deals with the unlabelled dataset."
   ]
  },
  {
   "cell_type": "code",
   "execution_count": null,
   "id": "6768d5d0-4c9b-40c9-b86c-a9c2de4860e6",
   "metadata": {},
   "outputs": [],
   "source": [
    "The clustering technique can be widely used in various tasks. Some most common uses of this technique are:\n",
    "\n",
    "1) Market Segmentation\n",
    "2) Social Network Analysis\n",
    "3) Image Segmentation\n",
    "4) Anamoly Detection\n",
    "5) Statistical Data Analysis etc."
   ]
  },
  {
   "cell_type": "code",
   "execution_count": null,
   "id": "d1f46eb4-32fd-4505-9133-e22003905141",
   "metadata": {},
   "outputs": [],
   "source": [
    "Types of Clusterring methods\n",
    "\n",
    "Clustering Methods are divided into two types first one is Hard Clustering (Data Points can be divided into one group) \n",
    "and Soft Clustering (Data Points can be divided into another group also). But there are many approaches in clustering.\n",
    "Below are the main methods of the clustering. They are:\n",
    "\n",
    "1) Partitioning Clustering\n",
    "2) Density-Based Clustering\n",
    "3) Distribution model-based Clustering\n",
    "4) Hierachical Clustering\n",
    "5) Fuzzy Clustering"
   ]
  },
  {
   "cell_type": "code",
   "execution_count": null,
   "id": "9e79bc09-1849-4e73-b2c6-6cce97c65f30",
   "metadata": {},
   "outputs": [],
   "source": [
    "Partitioning Clustering\n",
    "\n",
    "Divides into distinct, non-overlapping groups and typically using k-means clustering algorithm is called Partitioning clustering."
   ]
  },
  {
   "cell_type": "code",
   "execution_count": null,
   "id": "23db6e18-8475-4ff9-a7c9-23d15229ec2c",
   "metadata": {},
   "outputs": [],
   "source": [
    "Density-Based Clustering\n",
    "\n",
    "Groups data based on high-density regions, allows for clusters of varying shape and size by typically using DBScan Algorithm\n",
    "is called Density-Based Clustering."
   ]
  },
  {
   "cell_type": "code",
   "execution_count": null,
   "id": "de6a3903-85ae-4973-894a-68fe07a3aee9",
   "metadata": {},
   "outputs": [],
   "source": [
    "Distribution model-based Clustering\n",
    "\n",
    "Assumes data is generated from a mixture of probability distributions and identifies clusters accordingly by like \n",
    "Gaussian Mixture Model is called Distribution model-based Clustering."
   ]
  },
  {
   "cell_type": "code",
   "execution_count": null,
   "id": "fb9b1b08-8902-452e-b7a3-cca9f9f490c8",
   "metadata": {},
   "outputs": [],
   "source": [
    "Hierarchical Clustering\n",
    "\n",
    "Creates a tree like structure of clusters by either merging or splitting them iteratively, resulting in a dendrogram\n",
    "(to create a tree like structure which allows the user to see where clusters merge) is called Hierachical Clustering."
   ]
  },
  {
   "cell_type": "code",
   "execution_count": null,
   "id": "4430ef83-bbc8-4603-8ca2-74d967371fe1",
   "metadata": {},
   "outputs": [],
   "source": [
    "Fuzzy Clustering\n",
    "\n",
    "Allows data points to belong to multiple clusters with varying degrees of membership, rather them assigning into\n",
    "a single cluster is called Fuzzy Clustering."
   ]
  },
  {
   "cell_type": "code",
   "execution_count": null,
   "id": "e2648780-8468-4a43-ac05-88ecf031b679",
   "metadata": {},
   "outputs": [],
   "source": [
    "Clustering Algorithms\n",
    "\n",
    "1) K-Means Clustering Algorithm\n",
    "2) Means Shift Algorithm\n",
    "3) DBSCAN (Density Based Spatial Clustering of Algorithms with Noise)\n",
    "4) Expectation Maximization Clustering using GMM (Gaussian Mixture Model)\n",
    "5) Agglomerative Hierarchical model\n",
    "6) Affinity Propogation"
   ]
  },
  {
   "cell_type": "code",
   "execution_count": null,
   "id": "287a0da8-b215-4bd3-9cec-7251ad758c33",
   "metadata": {},
   "outputs": [],
   "source": [
    "Applications of Clustering\n",
    "\n",
    "1) In Identification of Cancer cells\n",
    "2) In Search Engines\n",
    "3) In Biology\n",
    "4) In Land Use\n",
    "5) In Customer Segmentation"
   ]
  },
  {
   "cell_type": "code",
   "execution_count": null,
   "id": "0701309d-59ae-4cc8-b06e-aebb10c747bb",
   "metadata": {},
   "outputs": [],
   "source": []
  }
 ],
 "metadata": {
  "kernelspec": {
   "display_name": "Python 3 (ipykernel)",
   "language": "python",
   "name": "python3"
  },
  "language_info": {
   "codemirror_mode": {
    "name": "ipython",
    "version": 3
   },
   "file_extension": ".py",
   "mimetype": "text/x-python",
   "name": "python",
   "nbconvert_exporter": "python",
   "pygments_lexer": "ipython3",
   "version": "3.9.12"
  }
 },
 "nbformat": 4,
 "nbformat_minor": 5
}
