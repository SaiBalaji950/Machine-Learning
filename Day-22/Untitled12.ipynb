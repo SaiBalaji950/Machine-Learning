{
 "cells": [
  {
   "cell_type": "code",
   "execution_count": null,
   "id": "5fe5ef17-683a-4026-af3c-4ad2000a2582",
   "metadata": {},
   "outputs": [],
   "source": [
    "Association Rule Learning\n",
    "\n",
    "Association Rule Learning is the Unsupervised learning Technique and it checks the dependency of one data item on \n",
    "another data item and it maps accordingly which can be more profitable. it tries to find something interesting on\n",
    "variable of the dataset. it is based on different rules to discover the interesting relations between variables \n",
    "of the dataset."
   ]
  },
  {
   "cell_type": "code",
   "execution_count": null,
   "id": "7b1ce702-29ac-4ee6-ac88-4d5003040e08",
   "metadata": {},
   "outputs": [],
   "source": [
    "Associative Rule Learning is divided into three types of algorithm.They are:\n",
    "\n",
    "1) Apriori Algorithm\n",
    "2) FP Growth\n",
    "3) Eclat"
   ]
  },
  {
   "cell_type": "code",
   "execution_count": null,
   "id": "b6c5ff4a-ed46-4449-80ea-8db1552acf17",
   "metadata": {},
   "outputs": [],
   "source": [
    "Working of Associative Rule Learning\n",
    "\n",
    "1) Support\n",
    "2) Confidence\n",
    "3) Lift"
   ]
  },
  {
   "cell_type": "code",
   "execution_count": null,
   "id": "11dd40cc-f776-4302-b1e3-46c41066ba3f",
   "metadata": {},
   "outputs": [],
   "source": [
    "Support\n",
    "\n",
    "Support is the frequency of A or how frequently an item appears in the dataset. \n",
    "It is defined as the fraction of the transaction T that contains the itemset X. \n",
    "If there are X datasets, then for transactions T, it can be written as:\n",
    "\n",
    "Supp(x)=(freq(X))/T"
   ]
  },
  {
   "cell_type": "code",
   "execution_count": null,
   "id": "249626c7-4e0d-4b2b-8705-a5ce940d8ae0",
   "metadata": {},
   "outputs": [],
   "source": [
    "Confidence\n",
    "\n",
    "Confidence indicates how often the rule has been found to be true. Or how often the items X and Y occur together in \n",
    "the dataset when the occurrence of X is already given. It is the ratio of the transaction that contains X and Y to\n",
    "the number of records that contain X. it can be written as:\n"
   ]
  }
 ],
 "metadata": {
  "kernelspec": {
   "display_name": "Python 3 (ipykernel)",
   "language": "python",
   "name": "python3"
  },
  "language_info": {
   "codemirror_mode": {
    "name": "ipython",
    "version": 3
   },
   "file_extension": ".py",
   "mimetype": "text/x-python",
   "name": "python",
   "nbconvert_exporter": "python",
   "pygments_lexer": "ipython3",
   "version": "3.9.12"
  }
 },
 "nbformat": 4,
 "nbformat_minor": 5
}
